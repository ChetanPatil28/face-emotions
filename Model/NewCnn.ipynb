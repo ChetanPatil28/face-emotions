{
 "cells": [
  {
   "cell_type": "code",
   "execution_count": 1,
   "metadata": {},
   "outputs": [
    {
     "name": "stderr",
     "output_type": "stream",
     "text": [
      "C:\\Users\\Pradeep\\Anaconda3\\envs\\tensorflow\\lib\\site-packages\\h5py\\__init__.py:36: FutureWarning: Conversion of the second argument of issubdtype from `float` to `np.floating` is deprecated. In future, it will be treated as `np.float64 == np.dtype(float).type`.\n",
      "  from ._conv import register_converters as _register_converters\n",
      "Using TensorFlow backend.\n"
     ]
    }
   ],
   "source": [
    "import keras\n",
    "\n",
    "from keras.layers.convolutional import Conv2D,MaxPooling2D\n",
    "from keras.layers.core import Dense,Flatten,Dropout\n",
    "from keras.models import Model,load_model\n",
    "from keras.layers import Input,add,BatchNormalization\n",
    "from keras.callbacks import EarlyStopping\n",
    "import matplotlib.pyplot as plt\n",
    "import pandas as pd\n",
    "import numpy as np\n"
   ]
  },
  {
   "cell_type": "code",
   "execution_count": 2,
   "metadata": {},
   "outputs": [],
   "source": [
    "from keras.callbacks import ModelCheckpoint\n",
    "checkpoint=ModelCheckpoint(\"weights-imporovement-{epoch:02d}-{val_acc:.2f}.hdf5\",\n",
    "                           monitor='val_loss',verbose=1,save_best_only=True,mode='max')"
   ]
  },
  {
   "cell_type": "code",
   "execution_count": 3,
   "metadata": {},
   "outputs": [],
   "source": [
    "#EXTRACTING THE DATA FROM TAR FILE\n",
    "num_classes=7\n",
    "\n",
    "with open('fer2013.csv') as f:\n",
    "    content=f.readlines()\n",
    "lines=np.array(content)\n",
    "nom=lines.size\n",
    "Xtr, Ytr, Xte, Yte= [], [], [], []\n",
    "for i in range(1,nom):\n",
    "    try:\n",
    "        emotion,pixels,Usage =lines[i].split(\",\")\n",
    "        val=pixels.split(\" \")\n",
    "        pixx=np.array(val,'float32')\n",
    "        emotion=keras.utils.to_categorical(emotion,num_classes)\n",
    "        \n",
    "        if 'Training' in Usage:\n",
    "            Ytr.append(emotion)\n",
    "            Xtr.append(pixx)\n",
    "        elif 'PrivateTest' in Usage:\n",
    "            Yte.append(emotion)\n",
    "            Xte.append(pixx)\n",
    "    except:\n",
    "        print('Over')\n",
    "   "
   ]
  },
  {
   "cell_type": "code",
   "execution_count": 4,
   "metadata": {},
   "outputs": [],
   "source": [
    "#PRE-PROCESSING THE DATA\n",
    "Xtr=np.array(Xtr,'float32')/255.\n",
    "Ytr=np.array(Ytr,'float32')/255.\n",
    "\n",
    "Xte=np.array(Xte,'float32')/255.\n",
    "Yte=np.array(Yte,'float32')/255.      \n",
    " \n",
    "exp={0:'angry',1:'disgust',2:'fear',3:'happy',4:'sad',5:'surprise',6:'neutral'}\n",
    "\n",
    "Xtr=Xtr.reshape(Xtr.shape[0],48,48)\n",
    "Xte=Xte.reshape(Xte.shape[0],48,48)\n"
   ]
  },
  {
   "cell_type": "code",
   "execution_count": 5,
   "metadata": {},
   "outputs": [],
   "source": [
    "#DATA-AUGMENTATION\n",
    "Xfl = Xtr[:, :, ::-1]  # simple slice to flip all images\n",
    "Yfl=Ytr\n",
    "X=np.concatenate((Xtr,Xfl),axis=0)\n",
    "Y=np.concatenate((Ytr,Yfl),axis=0)"
   ]
  },
  {
   "cell_type": "code",
   "execution_count": 23,
   "metadata": {},
   "outputs": [
    {
     "name": "stdout",
     "output_type": "stream",
     "text": [
      "(50527, 48, 48) (6891, 48, 48)\n"
     ]
    }
   ],
   "source": [
    "from sklearn.model_selection import train_test_split\n",
    "Xtrain,Xval,Ytrain,Yval=train_test_split(X,Y,test_size=0.12,random_state=485)\n",
    "print(Xtrain.shape,Xval.shape)"
   ]
  },
  {
   "cell_type": "code",
   "execution_count": 251,
   "metadata": {},
   "outputs": [
    {
     "name": "stdout",
     "output_type": "stream",
     "text": [
      "surprise\n"
     ]
    },
    {
     "data": {
      "image/png": "[encoded data removed]",
      "text/plain": [
       "<Figure size 432x288 with 1 Axes>"
      ]
     },
     "metadata": {},
     "output_type": "display_data"
    }
   ],
   "source": [
    "#LOOKING AT A RANDOM IMAGE AND ITS LABEL FROM THE TRAINING SET\n",
    "k=np.random.randint(1,Xtrain.shape[0])       \n",
    "plt.imshow(Xtrain[k].reshape(48,48),cmap='gray')\n",
    "ar=np.argmax(Ytrain[k])\n",
    "print(exp[ar])      \n"
   ]
  },
  {
   "cell_type": "code",
   "execution_count": 38,
   "metadata": {},
   "outputs": [],
   "source": [
    "#RESHAPING THE IMAGES\n",
    "Xtrain=Xtrain.reshape(Xtrain.shape[0],48,48,1)\n",
    "Xval=Xval.reshape(Xval.shape[0],48,48,1)"
   ]
  },
  {
   "cell_type": "code",
   "execution_count": 165,
   "metadata": {},
   "outputs": [],
   "source": [
    "#####DEFINING OUR MODEL USING THE KERAS FUNCTIONAL API\n",
    "x=Input(shape=(48,48,1))\n",
    "con1=Conv2D(8,(3,3),activation='relu')(x)\n",
    "max1=MaxPooling2D( (2,2))(con1)\n",
    "dr1=Dropout(0.05)(max1)\n",
    "con2=Conv2D(16,(3,3),activation='relu')(dr1)\n",
    "max2=MaxPooling2D((2,2))(con2)\n",
    "con3=Conv2D(32,(3,3),activation='relu')(max2)\n",
    "max3=MaxPooling2D((2,2))(con3)\n",
    "flat=Flatten()(max3)\n",
    "dens1=Dense(256,activation='relu')(flat)\n",
    "ba=BatchNormalization(epsilon=0.0002)(dens1)\n",
    "dens2=Dense(72,activation='relu')(ba)\n",
    "op=Dense(7,activation='softmax')(dens2)\n",
    "\n",
    "faces=Model(x,op)     \n",
    "\n",
    "faces.compile(optimizer='adam',loss='categorical_crossentropy',metrics=['accuracy'])\n"
   ]
  },
  {
   "cell_type": "code",
   "execution_count": 166,
   "metadata": {},
   "outputs": [
    {
     "name": "stdout",
     "output_type": "stream",
     "text": [
      "_________________________________________________________________\n",
      "Layer (type)                 Output Shape              Param #   \n",
      "=================================================================\n",
      "input_2 (InputLayer)         (None, 48, 48, 1)         0         \n",
      "_________________________________________________________________\n",
      "conv2d_4 (Conv2D)            (None, 46, 46, 8)         80        \n",
      "_________________________________________________________________\n",
      "max_pooling2d_4 (MaxPooling2 (None, 23, 23, 8)         0         \n",
      "_________________________________________________________________\n",
      "dropout_2 (Dropout)          (None, 23, 23, 8)         0         \n",
      "_________________________________________________________________\n",
      "conv2d_5 (Conv2D)            (None, 21, 21, 20)        1460      \n",
      "_________________________________________________________________\n",
      "max_pooling2d_5 (MaxPooling2 (None, 10, 10, 20)        0         \n",
      "_________________________________________________________________\n",
      "conv2d_6 (Conv2D)            (None, 8, 8, 32)          5792      \n",
      "_________________________________________________________________\n",
      "max_pooling2d_6 (MaxPooling2 (None, 4, 4, 32)          0         \n",
      "_________________________________________________________________\n",
      "flatten_2 (Flatten)          (None, 512)               0         \n",
      "_________________________________________________________________\n",
      "dense_4 (Dense)              (None, 256)               131328    \n",
      "_________________________________________________________________\n",
      "batch_normalization_2 (Batch (None, 256)               1024      \n",
      "_________________________________________________________________\n",
      "dense_5 (Dense)              (None, 72)                18504     \n",
      "_________________________________________________________________\n",
      "dense_6 (Dense)              (None, 7)                 511       \n",
      "=================================================================\n",
      "Total params: 158,699\n",
      "Trainable params: 158,187\n",
      "Non-trainable params: 512\n",
      "_________________________________________________________________\n"
     ]
    }
   ],
   "source": [
    "faces.summary()\n",
    "esm=EarlyStopping(monitor='val_loss',patience=3)\n"
   ]
  },
  {
   "cell_type": "code",
   "execution_count": 167,
   "metadata": {},
   "outputs": [
    {
     "name": "stdout",
     "output_type": "stream",
     "text": [
      "Train on 50527 samples, validate on 6891 samples\n",
      "Epoch 1/20\n",
      "50527/50527 [==============================] - 22s 430us/step - loss: 0.0063 - acc: 0.3718 - val_loss: 0.0060 - val_acc: 0.4131\n",
      "\n",
      "Epoch 00001: val_loss did not improve from 0.00655\n",
      "Epoch 2/20\n",
      "50527/50527 [==============================] - 21s 410us/step - loss: 0.0054 - acc: 0.4667 - val_loss: 0.0058 - val_acc: 0.4504\n",
      "\n",
      "Epoch 00002: val_loss did not improve from 0.00655\n",
      "Epoch 3/20\n",
      "50527/50527 [==============================] - 21s 410us/step - loss: 0.0050 - acc: 0.5108 - val_loss: 0.0065 - val_acc: 0.3859\n",
      "\n",
      "Epoch 00003: val_loss did not improve from 0.00655\n",
      "Epoch 4/20\n",
      "50527/50527 [==============================] - 21s 409us/step - loss: 0.0048 - acc: 0.5371 - val_loss: 0.0060 - val_acc: 0.4304\n",
      "\n",
      "Epoch 00004: val_loss did not improve from 0.00655\n",
      "Epoch 5/20\n",
      "50527/50527 [==============================] - 21s 410us/step - loss: 0.0046 - acc: 0.5571 - val_loss: 0.0050 - val_acc: 0.5195\n",
      "\n",
      "Epoch 00005: val_loss did not improve from 0.00655\n",
      "Epoch 6/20\n",
      "50527/50527 [==============================] - 21s 410us/step - loss: 0.0044 - acc: 0.5730 - val_loss: 0.0048 - val_acc: 0.5303\n",
      "\n",
      "Epoch 00006: val_loss did not improve from 0.00655\n",
      "Epoch 7/20\n",
      "50527/50527 [==============================] - 21s 411us/step - loss: 0.0043 - acc: 0.5855 - val_loss: 0.0049 - val_acc: 0.5297\n",
      "\n",
      "Epoch 00007: val_loss did not improve from 0.00655\n",
      "Epoch 8/20\n",
      "50527/50527 [==============================] - 21s 411us/step - loss: 0.0042 - acc: 0.5989 - val_loss: 0.0048 - val_acc: 0.5407\n",
      "\n",
      "Epoch 00008: val_loss did not improve from 0.00655\n",
      "Epoch 9/20\n",
      "50527/50527 [==============================] - 21s 412us/step - loss: 0.0041 - acc: 0.6083 - val_loss: 0.0047 - val_acc: 0.5574\n",
      "\n",
      "Epoch 00009: val_loss did not improve from 0.00655\n",
      "Epoch 10/20\n",
      "50527/50527 [==============================] - 21s 410us/step - loss: 0.0040 - acc: 0.6198 - val_loss: 0.0048 - val_acc: 0.5416\n",
      "\n",
      "Epoch 00010: val_loss did not improve from 0.00655\n",
      "Epoch 11/20\n",
      "50527/50527 [==============================] - 21s 411us/step - loss: 0.0039 - acc: 0.6287 - val_loss: 0.0054 - val_acc: 0.4930\n",
      "\n",
      "Epoch 00011: val_loss did not improve from 0.00655\n",
      "Epoch 12/20\n",
      "50527/50527 [==============================] - 21s 412us/step - loss: 0.0038 - acc: 0.6379 - val_loss: 0.0049 - val_acc: 0.5500\n",
      "\n",
      "Epoch 00012: val_loss did not improve from 0.00655\n"
     ]
    }
   ],
   "source": [
    "Hist=faces.fit(Xtrain,Ytrain,batch_size=256,epochs=20,callbacks=[esm,checkpoint],validation_data=(Xval,Yval),\n",
    "               shuffle=True)\n"
   ]
  },
  {
   "cell_type": "code",
   "execution_count": 42,
   "metadata": {},
   "outputs": [],
   "source": [
    "faces.save('newcnn.h5')"
   ]
  },
  {
   "cell_type": "code",
   "execution_count": 56,
   "metadata": {
    "scrolled": true
   },
   "outputs": [],
   "source": [
    "neww=load_model('newcnn.h5')"
   ]
  },
  {
   "cell_type": "code",
   "execution_count": 60,
   "metadata": {},
   "outputs": [
    {
     "data": {
      "text/plain": [
       "(3589, 48, 48, 1)"
      ]
     },
     "execution_count": 60,
     "metadata": {},
     "output_type": "execute_result"
    }
   ],
   "source": [
    "Xte=Xte.reshape(Xte.shape[0],48,48,1)\n",
    "Xte.shape"
   ]
  },
  {
   "cell_type": "code",
   "execution_count": 279,
   "metadata": {},
   "outputs": [
    {
     "name": "stdout",
     "output_type": "stream",
     "text": [
      "The expected emotion is  surprise\n",
      "The predicted emotion is  surprise\n"
     ]
    },
    {
     "data": {
      "image/png": "[encoded data removed]",
      "text/plain": [
       "<Figure size 432x288 with 1 Axes>"
      ]
     },
     "metadata": {},
     "output_type": "display_data"
    }
   ],
   "source": [
    "a=np.random.randint(1,Xte.shape[0])       \n",
    "plt.imshow(Xte[a].reshape(48,48),cmap='gray')\n",
    "print('The expected emotion is ',exp[np.argmax(Yte[a])])\n",
    "testimage=np.expand_dims(Xte[a],axis=0)\n",
    "pred=neww.predict(testimage)\n",
    "print('The predicted emotion is ',exp[np.argmax(pred)])\n",
    "\n",
    "#testimage.shape"
   ]
  },
  {
   "cell_type": "code",
   "execution_count": null,
   "metadata": {},
   "outputs": [],
   "source": []
  }
 ],
 "metadata": {
  "kernelspec": {
   "display_name": "Python 3",
   "language": "python",
   "name": "python3"
  },
  "language_info": {
   "codemirror_mode": {
    "name": "ipython",
    "version": 3
   },
   "file_extension": ".py",
   "mimetype": "text/x-python",
   "name": "python",
   "nbconvert_exporter": "python",
   "pygments_lexer": "ipython3",
   "version": "3.6.5"
  }
 },
 "nbformat": 4,
 "nbformat_minor": 2
}
