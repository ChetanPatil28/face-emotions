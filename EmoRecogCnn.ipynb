{
 "cells": [
  {
   "cell_type": "code",
   "execution_count": 1,
   "metadata": {},
   "outputs": [
    {
     "name": "stderr",
     "output_type": "stream",
     "text": [
      "c:\\anaconda3\\envs\\tensorflow\\lib\\site-packages\\h5py\\__init__.py:36: FutureWarning: Conversion of the second argument of issubdtype from `float` to `np.floating` is deprecated. In future, it will be treated as `np.float64 == np.dtype(float).type`.\n",
      "  from ._conv import register_converters as _register_converters\n",
      "Using TensorFlow backend.\n"
     ]
    }
   ],
   "source": [
    "import keras\n",
    "\n",
    "from keras.layers.convolutional import Conv2D,MaxPooling2D\n",
    "from keras.layers.core import Dense,Flatten,Dropout\n",
    "from keras.models import Model,load_model\n",
    "from keras.layers import Input,add,BatchNormalization\n",
    "from keras.callbacks import EarlyStopping\n",
    "import matplotlib.pyplot as plt\n",
    "import pandas as pd\n",
    "import numpy as np\n"
   ]
  },
  {
   "cell_type": "code",
   "execution_count": 3,
   "metadata": {},
   "outputs": [],
   "source": [
    "from keras.callbacks import ModelCheckpoint\n",
    "checkpoint=ModelCheckpoint(\"weights-imporovement-{epoch:02d}-{val_acc:.2f}.hdf5\",\n",
    "                           monitor='val_loss',verbose=1,save_best_only=True,mode='max')"
   ]
  },
  {
   "cell_type": "code",
   "execution_count": 2,
   "metadata": {},
   "outputs": [],
   "source": [
    "#EXTRACTING THE DATA FROM TAR FILE\n",
    "num_classes=7\n",
    "\n",
    "with open('fer2013.csv') as f:\n",
    "    content=f.readlines()\n",
    "lines=np.array(content)\n",
    "nom=lines.size\n",
    "Xtr, Ytr, Xte, Yte= [], [], [], []\n",
    "for i in range(1,nom):\n",
    "    try:\n",
    "        emotion,pixels,Usage =lines[i].split(\",\")\n",
    "        val=pixels.split(\" \")\n",
    "        pixx=np.array(val,'float32')\n",
    "        emotion=keras.utils.to_categorical(emotion,num_classes)\n",
    "        \n",
    "        if 'Training' in Usage:\n",
    "            Ytr.append(emotion)\n",
    "            Xtr.append(pixx)\n",
    "        elif 'PrivateTest' in Usage:\n",
    "            Yte.append(emotion)\n",
    "            Xte.append(pixx)\n",
    "    except:\n",
    "        print('Over')\n",
    "   "
   ]
  },
  {
   "cell_type": "code",
   "execution_count": 3,
   "metadata": {},
   "outputs": [],
   "source": [
    "#PRE-PROCESSING THE DATA\n",
    "Xtr=np.array(Xtr,'float32')/255.\n",
    "Ytr=np.array(Ytr,'float32')/255.\n",
    "\n",
    "Xte=np.array(Xte,'float32')/255.\n",
    "Yte=np.array(Yte,'float32')/255.      \n",
    " \n",
    "exp={0:'angry',1:'disgust',2:'fear',3:'happy',4:'sad',5:'surprise',6:'neutral'}\n",
    "\n",
    "Xtr=Xtr.reshape(Xtr.shape[0],48,48)\n",
    "Xte=Xte.reshape(Xte.shape[0],48,48)\n"
   ]
  },
  {
   "cell_type": "code",
   "execution_count": 4,
   "metadata": {},
   "outputs": [],
   "source": [
    "#DATA-AUGMENTATION\n",
    "Xfl = Xtr[:, :, ::-1]  # simple slice to flip all images\n",
    "Yfl=Ytr\n",
    "X=np.concatenate((Xtr,Xfl),axis=0)\n",
    "Y=np.concatenate((Ytr,Yfl),axis=0)"
   ]
  },
  {
   "cell_type": "code",
   "execution_count": 11,
   "metadata": {},
   "outputs": [
    {
     "name": "stdout",
     "output_type": "stream",
     "text": [
      "sad\n"
     ]
    },
    {
     "data": {
      "image/png": "[encoded data removed]",
      "text/plain": [
       "<matplotlib.figure.Figure at 0x243565486a0>"
      ]
     },
     "metadata": {},
     "output_type": "display_data"
    }
   ],
   "source": [
    "#LOOKING AT A RANDOM IMAGE AND ITS LABEL FROM THE TRAINING SET\n",
    "k=np.random.randint(1,X.shape[0])       \n",
    "plt.imshow(X[k].reshape(48,48),cmap='gray')\n",
    "ar=np.argmax(Y[k])\n",
    "print(exp[ar])      \n",
    "#print(Yte[k])"
   ]
  },
  {
   "cell_type": "code",
   "execution_count": 6,
   "metadata": {},
   "outputs": [],
   "source": [
    "#RESHAPING THE IMAGES\n",
    "X=X.reshape(X.shape[0],48,48,1)\n",
    "Xte=Xte.reshape(Xte.shape[0],48,48,1)"
   ]
  },
  {
   "cell_type": "code",
   "execution_count": 18,
   "metadata": {},
   "outputs": [],
   "source": [
    "#####DEFINING OUR MODEL USING THE KERAS FUNCTIONAL API\n",
    "x=Input(shape=(48,48,1))\n",
    "con1=Conv2D(8,(3,3),activation='relu')(x)\n",
    "max1=MaxPooling2D( (2,2))(con1)\n",
    "dr1=Dropout(0.05)(max1)\n",
    "con2=Conv2D(16,(3,3),activation='relu')(dr1)\n",
    "max2=MaxPooling2D((2,2))(con2)\n",
    "con3=Conv2D(16,(3,3),activation='relu')(max2)\n",
    "max3=MaxPooling2D((2,2))(con3)\n",
    "flat=Flatten()(max3)\n",
    "dens1=Dense(256,activation='relu')(flat)\n",
    "ba=BatchNormalization(epsilon=0.0002)(dens1)\n",
    "dens2=Dense(72,activation='relu')(ba)\n",
    "op=Dense(7,activation='softmax')(dens2)\n",
    "\n",
    "faces=Model(x,op)     \n",
    "\n",
    "faces.compile(optimizer='adam',loss='categorical_crossentropy',metrics=['accuracy'])\n"
   ]
  },
  {
   "cell_type": "code",
   "execution_count": 20,
   "metadata": {},
   "outputs": [
    {
     "name": "stdout",
     "output_type": "stream",
     "text": [
      "_________________________________________________________________\n",
      "Layer (type)                 Output Shape              Param #   \n",
      "=================================================================\n",
      "input_1 (InputLayer)         (None, 48, 48, 1)         0         \n",
      "_________________________________________________________________\n",
      "conv2d_1 (Conv2D)            (None, 46, 46, 8)         80        \n",
      "_________________________________________________________________\n",
      "max_pooling2d_1 (MaxPooling2 (None, 23, 23, 8)         0         \n",
      "_________________________________________________________________\n",
      "dropout_1 (Dropout)          (None, 23, 23, 8)         0         \n",
      "_________________________________________________________________\n",
      "conv2d_2 (Conv2D)            (None, 21, 21, 16)        1168      \n",
      "_________________________________________________________________\n",
      "max_pooling2d_2 (MaxPooling2 (None, 10, 10, 16)        0         \n",
      "_________________________________________________________________\n",
      "conv2d_3 (Conv2D)            (None, 8, 8, 16)          2320      \n",
      "_________________________________________________________________\n",
      "max_pooling2d_3 (MaxPooling2 (None, 4, 4, 16)          0         \n",
      "_________________________________________________________________\n",
      "flatten_1 (Flatten)          (None, 256)               0         \n",
      "_________________________________________________________________\n",
      "dense_1 (Dense)              (None, 256)               65792     \n",
      "_________________________________________________________________\n",
      "batch_normalization_1 (Batch (None, 256)               1024      \n",
      "_________________________________________________________________\n",
      "dense_2 (Dense)              (None, 72)                18504     \n",
      "_________________________________________________________________\n",
      "dense_3 (Dense)              (None, 7)                 511       \n",
      "=================================================================\n",
      "Total params: 89,399\n",
      "Trainable params: 88,887\n",
      "Non-trainable params: 512\n",
      "_________________________________________________________________\n"
     ]
    }
   ],
   "source": [
    "faces.summary()\n",
    "esm=EarlyStopping(monitor='val_loss',patience=3)\n"
   ]
  },
  {
   "cell_type": "code",
   "execution_count": null,
   "metadata": {},
   "outputs": [],
   "source": [
    "Hist=faces.fit(X,Y,batch_size=128,epochs=30,callbacks=[esm,checkpoint],validation_data=(Xte,Yte),\n",
    "          shuffle=True)\n"
   ]
  },
  {
   "cell_type": "code",
   "execution_count": 22,
   "metadata": {},
   "outputs": [],
   "source": [
    "faces.save('newcnn.h5')"
   ]
  },
  {
   "cell_type": "code",
   "execution_count": 12,
   "metadata": {
    "scrolled": true
   },
   "outputs": [],
   "source": [
    "#neww=load_model('model_2layer_2_2_pool.h5')"
   ]
  },
  {
   "cell_type": "code",
   "execution_count": 70,
   "metadata": {},
   "outputs": [],
   "source": []
  },
  {
   "cell_type": "code",
   "execution_count": null,
   "metadata": {},
   "outputs": [],
   "source": []
  }
 ],
 "metadata": {
  "kernelspec": {
   "display_name": "Python 3",
   "language": "python",
   "name": "python3"
  },
  "language_info": {
   "codemirror_mode": {
    "name": "ipython",
    "version": 3
   },
   "file_extension": ".py",
   "mimetype": "text/x-python",
   "name": "python",
   "nbconvert_exporter": "python",
   "pygments_lexer": "ipython3",
   "version": "3.5.4"
  }
 },
 "nbformat": 4,
 "nbformat_minor": 2
}
